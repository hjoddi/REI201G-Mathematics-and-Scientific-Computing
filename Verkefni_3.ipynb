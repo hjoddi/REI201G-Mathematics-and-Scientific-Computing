{
  "nbformat": 4,
  "nbformat_minor": 0,
  "metadata": {
    "colab": {
      "name": "Verkefni_3.ipynb",
      "provenance": [],
      "collapsed_sections": [],
      "authorship_tag": "ABX9TyPI/YK2+ZL7JvfXpDPMDJZf",
      "include_colab_link": true
    },
    "kernelspec": {
      "name": "python3",
      "display_name": "Python 3"
    },
    "language_info": {
      "name": "python"
    }
  },
  "cells": [
    {
      "cell_type": "markdown",
      "metadata": {
        "id": "view-in-github",
        "colab_type": "text"
      },
      "source": [
        "<a href=\"https://colab.research.google.com/github/hjoddi/REI201G-python-projects/blob/main/Verkefni_3.ipynb\" target=\"_parent\"><img src=\"https://colab.research.google.com/assets/colab-badge.svg\" alt=\"Open In Colab\"/></a>"
      ]
    },
    {
      "cell_type": "markdown",
      "source": [
        "3.A"
      ],
      "metadata": {
        "id": "P9iQcPbyiDF9"
      }
    },
    {
      "cell_type": "code",
      "execution_count": 1,
      "metadata": {
        "id": "f7bqo4yQh8JL"
      },
      "outputs": [],
      "source": [
        "# Fall sem tekur inn hitastig í Celcíusgráðum og skilar því í Fahrenheitgráðum.\n",
        "def TF(TC):\n",
        "  return ((9 / 5) * TC + 32)"
      ]
    },
    {
      "cell_type": "code",
      "source": [
        "# Forrit sem býr til töfluna.\n",
        "\n",
        "print (\"°C     °F\")\n",
        "print(\"----------\")\n",
        "for TC in range(-30, 55, 5):\n",
        "  tf = TF(TC)\n",
        "  print(f\"{TC:>3}{tf:>7}\")"
      ],
      "metadata": {
        "colab": {
          "base_uri": "https://localhost:8080/"
        },
        "id": "SJs4XCOXiAH9",
        "outputId": "f57c1fa1-0951-400b-bd38-2bf4121928c5"
      },
      "execution_count": 2,
      "outputs": [
        {
          "output_type": "stream",
          "name": "stdout",
          "text": [
            "°C     °F\n",
            "----------\n",
            "-30  -22.0\n",
            "-25  -13.0\n",
            "-20   -4.0\n",
            "-15    5.0\n",
            "-10   14.0\n",
            " -5   23.0\n",
            "  0   32.0\n",
            "  5   41.0\n",
            " 10   50.0\n",
            " 15   59.0\n",
            " 20   68.0\n",
            " 25   77.0\n",
            " 30   86.0\n",
            " 35   95.0\n",
            " 40  104.0\n",
            " 45  113.0\n",
            " 50  122.0\n"
          ]
        }
      ]
    },
    {
      "cell_type": "markdown",
      "source": [
        "3.B\n"
      ],
      "metadata": {
        "id": "ZBr12ULciIip"
      }
    },
    {
      "cell_type": "code",
      "source": [
        "# Forritsbútur með for-lykkju sem finnur kvaðratrætur, náttúrulega logra, \n",
        "#   og önnur veldi talnanna 1–10.\n",
        "\n",
        "import math\n",
        "\n",
        "print(f\"{'x' : ^6}{'Kvaðrarót' : ^12}{'Nát. logri' : ^15}{'Annað veldi' : ^15}\")\n",
        "print(\"-----------------------------------------------\")\n",
        "for x in range (1, 11):\n",
        "  kvadrarot = math.sqrt(x)\n",
        "  natLogri = math.log(x)\n",
        "  annadVeldi = x**2\n",
        "\n",
        "\n",
        "  print(f\"{x : ^6}{kvadrarot : ^12.2f}{natLogri : ^15.2f}{annadVeldi : ^15}\")"
      ],
      "metadata": {
        "colab": {
          "base_uri": "https://localhost:8080/"
        },
        "id": "Y2ZOC78diJzR",
        "outputId": "108a7051-7bff-4222-c274-eb952afb8dd0"
      },
      "execution_count": 3,
      "outputs": [
        {
          "output_type": "stream",
          "name": "stdout",
          "text": [
            "  x    Kvaðrarót    Nát. logri     Annað veldi  \n",
            "-----------------------------------------------\n",
            "  1       1.00         0.00             1       \n",
            "  2       1.41         0.69             4       \n",
            "  3       1.73         1.10             9       \n",
            "  4       2.00         1.39            16       \n",
            "  5       2.24         1.61            25       \n",
            "  6       2.45         1.79            36       \n",
            "  7       2.65         1.95            49       \n",
            "  8       2.83         2.08            64       \n",
            "  9       3.00         2.20            81       \n",
            "  10      3.16         2.30            100      \n"
          ]
        }
      ]
    },
    {
      "cell_type": "code",
      "source": [
        "# Forritsbútur með while-lykkju sem finnur kvaðratrætur, náttúrulega logra, \n",
        "#   og önnur veldi talnanna 1–10.\n",
        "\n",
        "import math\n",
        "\n",
        "print(f\"{'x' : ^6}{'Kvaðrarót' : ^12}{'Nát. logri' : ^15}{'Annað veldi' : ^15}\")\n",
        "print(\"-----------------------------------------------\")\n",
        "\n",
        "i = 1\n",
        "while i < 11:\n",
        "  kvadrarot = math.sqrt(i)\n",
        "  natLogri = math.log(i)\n",
        "  annadVeldi = i**2\n",
        "\n",
        "  print(f\"{i : ^6}{kvadrarot : ^12.2f}{natLogri : ^15.2f}{annadVeldi : ^15}\")\n",
        "\n",
        "  i += 1"
      ],
      "metadata": {
        "colab": {
          "base_uri": "https://localhost:8080/"
        },
        "id": "P5AxwlfSiNVR",
        "outputId": "1146c98c-f4b0-4f30-a404-9a2be3e80dbf"
      },
      "execution_count": 4,
      "outputs": [
        {
          "output_type": "stream",
          "name": "stdout",
          "text": [
            "  x    Kvaðrarót    Nát. logri     Annað veldi  \n",
            "-----------------------------------------------\n",
            "  1       1.00         0.00             1       \n",
            "  2       1.41         0.69             4       \n",
            "  3       1.73         1.10             9       \n",
            "  4       2.00         1.39            16       \n",
            "  5       2.24         1.61            25       \n",
            "  6       2.45         1.79            36       \n",
            "  7       2.65         1.95            49       \n",
            "  8       2.83         2.08            64       \n",
            "  9       3.00         2.20            81       \n",
            "  10      3.16         2.30            100      \n"
          ]
        }
      ]
    },
    {
      "cell_type": "markdown",
      "source": [
        "3.C"
      ],
      "metadata": {
        "id": "rY0F_7cKiPV1"
      }
    },
    {
      "cell_type": "code",
      "source": [
        "import math\n",
        "\n",
        "print(math.log(1))\n",
        "print(math.log(math.exp(3)))\n",
        "print(math.log10(1000))\n",
        "print(math.log2(8))"
      ],
      "metadata": {
        "colab": {
          "base_uri": "https://localhost:8080/"
        },
        "id": "USbwUlXwiQSG",
        "outputId": "54803b50-737c-4817-9ac5-79bcfc004176"
      },
      "execution_count": 5,
      "outputs": [
        {
          "output_type": "stream",
          "name": "stdout",
          "text": [
            "0.0\n",
            "3.0\n",
            "3.0\n",
            "3.0\n"
          ]
        }
      ]
    },
    {
      "cell_type": "markdown",
      "source": [
        "3.D"
      ],
      "metadata": {
        "id": "0I7glKqDiVi1"
      }
    },
    {
      "cell_type": "code",
      "source": [
        "# Fall sem reiknar og skilar rúmmáli kúlu með radíus r.\n",
        "\n",
        "import math\n",
        "\n",
        "def rummalKulu(r):\n",
        "  return ((4 / 3) * math.pi * r**3)"
      ],
      "metadata": {
        "id": "VNorjGhPiWgt"
      },
      "execution_count": 6,
      "outputs": []
    },
    {
      "cell_type": "code",
      "source": [
        "# Prófa fallið með kúlu með radíus 2.\n",
        "\n",
        "r = 2\n",
        "V = rummalKulu(r)\n",
        "print(f\"Rúmmál kúlu með radíus {r} er {V:.2f}.\")"
      ],
      "metadata": {
        "colab": {
          "base_uri": "https://localhost:8080/"
        },
        "id": "W1xGnn9fiYoq",
        "outputId": "baeb991f-31db-48d8-b095-ebdf9309f9df"
      },
      "execution_count": 7,
      "outputs": [
        {
          "output_type": "stream",
          "name": "stdout",
          "text": [
            "Rúmmál kúlu með radíus 2 er 33.51.\n"
          ]
        }
      ]
    },
    {
      "cell_type": "code",
      "source": [
        "# Fall sem reiknar og skilar radíus hrings með gefið ummál.\n",
        "\n",
        "import math\n",
        "\n",
        "def radiusHrings(C):\n",
        "  return (C / (2 * math.pi))"
      ],
      "metadata": {
        "id": "5T4vaUDoiaVp"
      },
      "execution_count": 8,
      "outputs": []
    },
    {
      "cell_type": "code",
      "source": [
        "# Prófa fallið með hring með ummál 10.\n",
        "\n",
        "C = 10\n",
        "r = radiusHrings(C)\n",
        "print(f\"Radíus hrings með ummál {C} er {r:.2f}.\")"
      ],
      "metadata": {
        "colab": {
          "base_uri": "https://localhost:8080/"
        },
        "id": "fxUJ24Seib35",
        "outputId": "e059ba0e-4809-4745-d375-80286ddb6074"
      },
      "execution_count": 9,
      "outputs": [
        {
          "output_type": "stream",
          "name": "stdout",
          "text": [
            "Radíus hrings með ummál 10 er 1.59.\n"
          ]
        }
      ]
    },
    {
      "cell_type": "code",
      "source": [
        "# Fall sem tekur inn eðlismassa hlutar í g/cm^3 og rúmmáli hans í m^3 \n",
        "#   og skilar þyngd hans í kg.\n",
        "\n",
        "def thyngd(D, V):\n",
        "  Dkgm3 = D * 1000\n",
        "  return (Dkgm3 * V)"
      ],
      "metadata": {
        "id": "PKhvmHxTidnh"
      },
      "execution_count": 10,
      "outputs": []
    },
    {
      "cell_type": "code",
      "source": [
        "# Prófa fallið til að reikna þyngd gulltenings sem er 20 cm á kant.\n",
        "\n",
        "D = 19.30\n",
        "V = 0.2**3\n",
        "m = thyngd(D, V)\n",
        "\n",
        "print(f\"Þyngd hlutar með eðlismassa {D:.4f} g/cm^3 og rúmmál {V:.4f} m^3 er {m:.4f} kg.\")"
      ],
      "metadata": {
        "colab": {
          "base_uri": "https://localhost:8080/"
        },
        "id": "UDyUqm6kifmr",
        "outputId": "178550ea-e745-4050-fd8d-1f670f28fa35"
      },
      "execution_count": 11,
      "outputs": [
        {
          "output_type": "stream",
          "name": "stdout",
          "text": [
            "Þyngd hlutar með eðlismassa 19.3000 g/cm^3 og rúmmál 0.0080 m^3 er 154.4000 kg.\n"
          ]
        }
      ]
    },
    {
      "cell_type": "code",
      "source": [
        "# Nota föllin á undan til að finna massa jarðarinnar í tonnum.\n",
        "\n",
        "Ckm = 40000\n",
        "D = 5.5\n",
        "rkm = radiusHrings(Ckm)\n",
        "Vkm = rummalKulu(rkm)\n",
        "Vm = Vkm * 1000\n",
        "m = thyngd(D, Vm)\n",
        "\n",
        "print(f\"Þyngd jarðarinnar er {m:.8f} kg.\")"
      ],
      "metadata": {
        "colab": {
          "base_uri": "https://localhost:8080/"
        },
        "id": "Bbd9UrYXihOp",
        "outputId": "aafcf2a8-89a5-43f9-df72-aa0d65a1ba19"
      },
      "execution_count": 12,
      "outputs": [
        {
          "output_type": "stream",
          "name": "stdout",
          "text": [
            "Þyngd jarðarinnar er 5944176107017150464.00000000 kg.\n"
          ]
        }
      ]
    }
  ]
}