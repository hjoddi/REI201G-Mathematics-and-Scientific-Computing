{
  "nbformat": 4,
  "nbformat_minor": 0,
  "metadata": {
    "colab": {
      "name": "S5_HjorvarSigurdssson.ipynb",
      "provenance": [],
      "collapsed_sections": [],
      "include_colab_link": true
    },
    "kernelspec": {
      "name": "python3",
      "display_name": "Python 3"
    },
    "language_info": {
      "name": "python"
    }
  },
  "cells": [
    {
      "cell_type": "markdown",
      "metadata": {
        "id": "view-in-github",
        "colab_type": "text"
      },
      "source": [
        "<a href=\"https://colab.research.google.com/github/hjoddi/REI201G-python-projects/blob/main/S5_HjorvarSigurdssson.ipynb\" target=\"_parent\"><img src=\"https://colab.research.google.com/assets/colab-badge.svg\" alt=\"Open In Colab\"/></a>"
      ]
    },
    {
      "cell_type": "markdown",
      "metadata": {
        "id": "rInDhIMNh5qK"
      },
      "source": [
        "# Stærðfræði og reiknifræði vor 2022, skiladæmi 5"
      ]
    },
    {
      "cell_type": "markdown",
      "source": [
        "Nafn: Hjörvar Sigurðsson\n",
        "\n",
        "Samverkamenn:"
      ],
      "metadata": {
        "id": "CqV6ZfIpicAY"
      }
    },
    {
      "cell_type": "markdown",
      "source": [
        "# Sameining nafnaskrár og einkunnaskrár (V12)"
      ],
      "metadata": {
        "id": "qyzKJj0I8RTM"
      }
    },
    {
      "cell_type": "code",
      "source": [
        "# a. Skrá lesin\n",
        "\n",
        "from urllib.request import urlopen\n",
        "eink_tafla = {}\n",
        "with urlopen(\"https://cs.hi.is/python/einkunn.txt\") as f:\n",
        "  for line in f:\n",
        "    (nr, einkunn) = line.split()\n",
        "    eink_tafla[nr] = einkunn\n",
        "\n",
        "for (nr, einkunn) in eink_tafla.items():\n",
        "  print(f\"{nr.decode('utf-8')} {einkunn.decode('utf-8')}\")"
      ],
      "metadata": {
        "id": "ifFPCl0q74zP",
        "outputId": "4e8ba13a-e177-4344-c545-62e2c47d0d40",
        "colab": {
          "base_uri": "https://localhost:8080/"
        }
      },
      "execution_count": null,
      "outputs": [
        {
          "output_type": "stream",
          "name": "stdout",
          "text": [
            "0176 7.0\n",
            "0542 8.0\n",
            "0970 9.5\n",
            "1419 6.5\n",
            "1577 7.0\n",
            "2785 9.0\n",
            "4218 7.0\n",
            "4854 9.0\n",
            "5469 10.0\n",
            "6324 6.5\n",
            "6558 8.5\n",
            "7923 5.5\n",
            "8003 9.5\n",
            "8148 5.0\n",
            "8492 7.5\n",
            "9058 7.5\n",
            "9134 8.0\n",
            "9158 8.0\n",
            "9340 6.5\n",
            "9572 8.0\n",
            "9576 5.5\n",
            "9595 8.5\n",
            "9649 6.5\n",
            "9706 9.0\n"
          ]
        }
      ]
    },
    {
      "cell_type": "code",
      "source": [
        "# b. Uppflettitafla\n",
        "\n",
        "nafn_tafla = {}\n",
        "f = urlopen(\"https://cs.hi.is/python/nofn.txt\")\n",
        "\n",
        "for line in f:\n",
        "  (nr, nafn) = line.strip().split(maxsplit = 1)\n",
        "  nafn_tafla[nr] = nafn\n",
        "\n",
        "for (nr, nafn) in nafn_tafla.items():\n",
        "  print(f\"{nr.decode('utf-8')} {nafn.decode('utf-8')}\")"
      ],
      "metadata": {
        "id": "xxR-FCAe8_kX",
        "outputId": "39bf2d58-8cab-46d6-a8d7-4762df3cd22b",
        "colab": {
          "base_uri": "https://localhost:8080/"
        }
      },
      "execution_count": null,
      "outputs": [
        {
          "output_type": "stream",
          "name": "stdout",
          "text": [
            "0176 Sigrún Ása Jónsdóttir\n",
            "0542 Kristín Fjóludóttir\n",
            "0970 Birta Lárusdóttir\n",
            "1419 Erla Ýr Guðnadóttir\n",
            "1577 Hulda Ósk Jónasdóttir\n",
            "2785 Bjarki Már Sveinsson\n",
            "4218 Kjartan Valur Jónsson\n",
            "4854 Anton Ingi Þórsson\n",
            "5469 Íris María Birgisdóttir\n",
            "6324 Ívar Sigurðsson\n",
            "6558 Ágúst Guðni Ingason\n",
            "7923 Steinunn Guðlaug Gunnarsdóttir\n",
            "8003 Eydís Þorsteinsdóttir\n",
            "8148 Signý Guðrún Pálsdóttir\n",
            "8492 Andri Oddur Steinarsson\n",
            "9058 Elías Ari Heimisson\n",
            "9134 Aðalheiður Pétursdóttir\n",
            "9158 Anna Sveinbjörnsdóttir\n",
            "9340 Bjarni Rúnar Kjartansson\n",
            "9572 Arna Þórisdóttir\n",
            "9576 Mark Johnson\n",
            "9595 Víðir Kristjánsson\n",
            "9649 Anna Kristinsdóttir\n",
            "9706 Jónas Valdimarsson\n"
          ]
        }
      ]
    },
    {
      "cell_type": "code",
      "source": [
        "# c. Útskrift lista\n",
        "\n",
        "for (nr, einkunn) in eink_tafla.items():\n",
        "  print(nr.decode('utf-8'), end = \"  \")\n",
        "  print(einkunn.decode('utf-8'), end = \"  \")\n",
        "  print(nafn_tafla[nr].decode('utf-8'))"
      ],
      "metadata": {
        "id": "6Sh48pcXTo4E",
        "outputId": "9c182eb5-3752-469d-907d-b96373d6bf1e",
        "colab": {
          "base_uri": "https://localhost:8080/"
        }
      },
      "execution_count": null,
      "outputs": [
        {
          "output_type": "stream",
          "name": "stdout",
          "text": [
            "0176  7.0  Sigrún Ása Jónsdóttir\n",
            "0542  8.0  Kristín Fjóludóttir\n",
            "0970  9.5  Birta Lárusdóttir\n",
            "1419  6.5  Erla Ýr Guðnadóttir\n",
            "1577  7.0  Hulda Ósk Jónasdóttir\n",
            "2785  9.0  Bjarki Már Sveinsson\n",
            "4218  7.0  Kjartan Valur Jónsson\n",
            "4854  9.0  Anton Ingi Þórsson\n",
            "5469  10.0  Íris María Birgisdóttir\n",
            "6324  6.5  Ívar Sigurðsson\n",
            "6558  8.5  Ágúst Guðni Ingason\n",
            "7923  5.5  Steinunn Guðlaug Gunnarsdóttir\n",
            "8003  9.5  Eydís Þorsteinsdóttir\n",
            "8148  5.0  Signý Guðrún Pálsdóttir\n",
            "8492  7.5  Andri Oddur Steinarsson\n",
            "9058  7.5  Elías Ari Heimisson\n",
            "9134  8.0  Aðalheiður Pétursdóttir\n",
            "9158  8.0  Anna Sveinbjörnsdóttir\n",
            "9340  6.5  Bjarni Rúnar Kjartansson\n",
            "9572  8.0  Arna Þórisdóttir\n",
            "9576  5.5  Mark Johnson\n",
            "9595  8.5  Víðir Kristjánsson\n",
            "9649  6.5  Anna Kristinsdóttir\n",
            "9706  9.0  Jónas Valdimarsson\n"
          ]
        }
      ]
    },
    {
      "cell_type": "code",
      "source": [
        "# d. Hæsta einkunn\n",
        "\n",
        "haestaEinkunn = 0.0\n",
        "haestaEinkunnNr = 0\n",
        "haestaEinkunnNafn = ''\n",
        "\n",
        "for (nr, einkunn) in eink_tafla.items():\n",
        "  if float(einkunn) > float(haestaEinkunn):\n",
        "    haestaEinkunn = einkunn\n",
        "    haestaEinkunnNr = nr\n",
        "    haestaEinkunnNafn = nafn_tafla[haestaEinkunnNr].decode('utf-8')\n",
        "\n",
        "\n",
        "\n",
        "print(f\"{haestaEinkunnNafn} var hæst með {haestaEinkunn.decode('utf-8')}\")"
      ],
      "metadata": {
        "id": "YeRfui1Vvlzc",
        "outputId": "bb3e21c6-0ffb-45c4-d98f-4538bd5c2c85",
        "colab": {
          "base_uri": "https://localhost:8080/"
        }
      },
      "execution_count": null,
      "outputs": [
        {
          "output_type": "stream",
          "name": "stdout",
          "text": [
            "Íris María Birgisdóttir var hæst með 10.0\n"
          ]
        }
      ]
    },
    {
      "cell_type": "markdown",
      "source": [
        "# Kosningaúrslit í lit (V23)"
      ],
      "metadata": {
        "id": "wai47ngF8gjg"
      }
    },
    {
      "cell_type": "code",
      "source": [
        "# a. Úrslit kosninganna\n",
        "\n",
        "import numpy as np\n",
        "\n",
        "\n",
        "def lesaúrslit():\n",
        "  netskrá = 'https://cs.hi.is/python/kosningar-2021.txt'\n",
        "  A = np.loadtxt(netskrá, skiprows=1, dtype=str).T\n",
        "\n",
        "  # Bý til lista með viðeigandi gögnum\n",
        "  listi = A[0].tolist()\n",
        "  atkvæði = A[1].tolist()\n",
        "  þingsæti = A[2].tolist()\n",
        "\n",
        "  return listi, atkvæði, þingsæti\n",
        "\n",
        "listi, atkvæði, þingsæti = lesaúrslit()\n",
        "print(listi)\n",
        "print(atkvæði)\n",
        "print(þingsæti)"
      ],
      "metadata": {
        "id": "bIeMsCH475Wr",
        "colab": {
          "base_uri": "https://localhost:8080/"
        },
        "outputId": "39bb3c70-7778-4ec7-d657-cb34dfe7473e"
      },
      "execution_count": null,
      "outputs": [
        {
          "output_type": "stream",
          "name": "stdout",
          "text": [
            "['B', 'C', 'D', 'F', 'J', 'M', 'O', 'P', 'S', 'V', 'Y']\n",
            "['34501', '16628', '48708', '17672', '8181', '10879', '836', '17233', '19825', '25114', '144']\n",
            "['13', '5', '16', '6', '0', '3', '0', '6', '6', '8', '0']\n"
          ]
        }
      ]
    },
    {
      "cell_type": "code",
      "source": [
        "# b. Flokkslitir\n",
        "\n",
        "def lesalitinöfn():\n",
        "  netskrá = 'https://cs.hi.is/python/flokkslitir.txt'\n",
        "  A = np.loadtxt(netskrá, skiprows=1, delimiter=',', dtype='str', comments=None).T\n",
        "  stafur = A[0].tolist()\n",
        "  litur = A[1].tolist()\n",
        "  nafn = A[2].tolist()\n",
        "\n",
        "  return stafur, litur, nafn\n",
        "\n",
        "stafur, litur, nafn = lesalitinöfn()\n",
        "print(stafur)\n",
        "print(litur)\n",
        "print(nafn)"
      ],
      "metadata": {
        "id": "F8LATaNdwHZX",
        "colab": {
          "base_uri": "https://localhost:8080/"
        },
        "outputId": "07b80f19-c7c0-4668-f96f-0e3d2a6dd3b8"
      },
      "execution_count": null,
      "outputs": [
        {
          "output_type": "stream",
          "name": "stdout",
          "text": [
            "['D', 'V', 'P', 'B', 'C', 'A', 'S', 'T', 'M', 'R', 'J', 'F', 'O', 'Y']\n",
            "['#00adef', '#488e41', '#522c7f', '#8ec83e', '#FFA400', '#92278f', '#da2128', '#eab943', '#199094', '#da2128', '#ff3500', '#ffd600', '#9f522d', '#808080']\n",
            "['Sjálfstæðisflokkur', 'Vinstri grænir', 'Píratar', 'Framsóknarflokkur', 'Viðreisn', 'Björt framtíð', 'Samfylking', 'Dögun', 'Miðflokkur', 'Alþýðufylking', 'Sósíalistaflokkur', 'Flokkur fólksins', 'Frjálslyndi lýðræðisfl.', 'Ábyrg framtíð']\n"
          ]
        }
      ]
    },
    {
      "cell_type": "code",
      "source": [
        "# c. Uppflettitöflur\n",
        "\n",
        "def litirognöfn(listi, stafur, litur, nafn):\n",
        "  litatafla = {}\n",
        "  nafnatafla = {}\n",
        "\n",
        "  for x in range(0, len(stafur)):\n",
        "    Listi = stafur[x]\n",
        "    Nafn = nafn[x]\n",
        "    Litur = litur[x]\n",
        "    nafnatafla[Listi] = Nafn\n",
        "    litatafla[Listi] = Litur\n",
        "\n",
        "  litir = [litatafla[st] for st in listi]\n",
        "  nöfn = [nafnatafla[st] for st in listi]\n",
        "\n",
        "  return litir, nöfn\n",
        "\n",
        "(litir, nöfn) = litirognöfn(listi, stafur, litur, nafn)\n",
        "print(litir)\n",
        "print(nöfn)"
      ],
      "metadata": {
        "id": "hsr2W2vJwIgh",
        "colab": {
          "base_uri": "https://localhost:8080/"
        },
        "outputId": "c1c69179-51d5-4e25-fb89-da62b062a3bc"
      },
      "execution_count": null,
      "outputs": [
        {
          "output_type": "stream",
          "name": "stdout",
          "text": [
            "['#8ec83e', '#FFA400', '#00adef', '#ffd600', '#ff3500', '#199094', '#9f522d', '#522c7f', '#da2128', '#488e41', '#808080']\n",
            "['Framsóknarflokkur', 'Viðreisn', 'Sjálfstæðisflokkur', 'Flokkur fólksins', 'Sósíalistaflokkur', 'Miðflokkur', 'Frjálslyndi lýðræðisfl.', 'Píratar', 'Samfylking', 'Vinstri grænir', 'Ábyrg framtíð']\n"
          ]
        }
      ]
    },
    {
      "cell_type": "code",
      "source": [
        "# d. Einfalt súlurit\n",
        "\n",
        "import matplotlib.pyplot as plt\n",
        "\n",
        "n = len(listi)\n",
        "x = range(n)\n",
        "plt.bar(x, atkvæði, color = litir)"
      ],
      "metadata": {
        "id": "T4KJdRpkwJi_",
        "colab": {
          "base_uri": "https://localhost:8080/",
          "height": 282
        },
        "outputId": "9e1c8ed3-a7eb-4def-974c-7800633fb017"
      },
      "execution_count": null,
      "outputs": [
        {
          "output_type": "execute_result",
          "data": {
            "text/plain": [
              "<BarContainer object of 11 artists>"
            ]
          },
          "metadata": {},
          "execution_count": 166
        },
        {
          "output_type": "display_data",
          "data": {
            "image/png": "[encoded data removed]",
            "text/plain": [
              "<Figure size 432x288 with 1 Axes>"
            ]
          },
          "metadata": {
            "needs_background": "light"
          }
        }
      ]
    },
    {
      "cell_type": "code",
      "source": [
        "# e. Fullgert súlurit\n",
        "\n",
        "import matplotlib.pyplot as plt\n",
        "\n",
        "\n",
        "# Finn heildarfjöldi atkvæða\n",
        "AtkvæðiHeild = 0\n",
        "for x in range(0, len(Atkvæði)):\n",
        "  AtkvæðiHeild += int(Atkvæði[x])\n",
        "\n",
        "# Reikna hlutfall atkvæða\n",
        "Hlutfall = {}\n",
        "for x in range(0, len(Listi)):\n",
        "  Hlutfall[x] = (int(Atkvæði[x]) / AtkvæðiHeild)\n",
        "\n",
        "def prósentuformat(ás):\n",
        "   \"\"\"merkir ás (\"x\" eða \"y\") með prósentum\"\"\"\n",
        "   from matplotlib.ticker import FuncFormatter\n",
        "   ásar = plt.gca() # get current axes\n",
        "   xy = ásar.xaxis if ás==\"x\" else ásar.yaxis\n",
        "   xy.set_major_formatter(FuncFormatter('{0:.0%}'.format))\n",
        "\n",
        "n = len(listi)\n",
        "x = range(n)\n",
        "plt.figure(dpi=130)\n",
        "plt.bar(x, Hlutfall, color = litir)\n",
        "plt.xticks(x, nöfn, rotation=\"vertical\")\n",
        "plt.ylabel('Hlutfall')\n",
        "\n",
        "# Fæ alltaf villur þegar ég reyni að setja þingsætafjölda fyrir ofan hverja súlu\n",
        "#  sama hvað ég reyni...\n",
        "\n",
        "#for x, y, n in zip(nöfn, Hlutfall, atkvæði):\n",
        "#  plt.text(x, y, n + \" \", fontsize=13)\n",
        "\n",
        "#def addlabels(x,y,n):\n",
        "#    for i in range(len(x)):\n",
        "#        plt.text(i,y[i],n[i])\n",
        "#\n",
        "#addlabels(nöfn, Hlutfall, atkvæði)\n",
        "\n",
        "#for i in range(0, len(nöfn)):\n",
        "#  plt.text(nöfn[i], Hlutfall[i], atkvæði[i])\n",
        "\n",
        "#for i in range(0, len(nöfn)):\n",
        " # plt.text(nöfn[0], Hlutfall[0], atkvæði[0])\n",
        "\n",
        "plt.ylim(0, 11)\n",
        "plt.title(\"Súlurit fyrir verkefni 23e\")\n",
        "plt.grid(axis=\"y\")\n",
        "plt.tick_params(length=0)"
      ],
      "metadata": {
        "id": "thAv8Em2wKua",
        "colab": {
          "base_uri": "https://localhost:8080/",
          "height": 661
        },
        "outputId": "ef72554c-37b4-4d43-8849-2d4d8e05c8ea"
      },
      "execution_count": null,
      "outputs": [
        {
          "output_type": "display_data",
          "data": {
            "image/png": "[encoded data removed]",
            "text/plain": [
              "<Figure size 780x520 with 1 Axes>"
            ]
          },
          "metadata": {
            "needs_background": "light"
          }
        }
      ]
    }
  ]
}