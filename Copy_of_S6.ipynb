{
  "nbformat": 4,
  "nbformat_minor": 0,
  "metadata": {
    "colab": {
      "name": "Copy of S6.ipynb",
      "provenance": [],
      "collapsed_sections": [],
      "include_colab_link": true
    },
    "kernelspec": {
      "name": "python3",
      "display_name": "Python 3"
    },
    "language_info": {
      "name": "python"
    }
  },
  "cells": [
    {
      "cell_type": "markdown",
      "metadata": {
        "id": "view-in-github",
        "colab_type": "text"
      },
      "source": [
        "<a href=\"https://colab.research.google.com/github/hjoddi/REI201G-python-projects/blob/main/Copy_of_S6.ipynb\" target=\"_parent\"><img src=\"https://colab.research.google.com/assets/colab-badge.svg\" alt=\"Open In Colab\"/></a>"
      ]
    },
    {
      "cell_type": "markdown",
      "metadata": {
        "id": "rInDhIMNh5qK"
      },
      "source": [
        "# **Stærðfræði og reiknifræði vor 2022, skiladæmi 6**"
      ]
    },
    {
      "cell_type": "markdown",
      "source": [
        "Nafn: Hjörvar Sigurðsson\n",
        "\n",
        "Samverkamenn:"
      ],
      "metadata": {
        "id": "CqV6ZfIpicAY"
      }
    },
    {
      "cell_type": "code",
      "source": [
        ""
      ],
      "metadata": {
        "id": "jj5mS2AoI91g"
      },
      "execution_count": null,
      "outputs": []
    },
    {
      "cell_type": "markdown",
      "source": [
        "# Málmavinnsla (V22)"
      ],
      "metadata": {
        "id": "qyzKJj0I8RTM"
      }
    },
    {
      "cell_type": "code",
      "source": [
        "# a. Sætistölur eðallofttegunda\n",
        "\n",
        "def isEven(k):\n",
        "  return k % 2 == 0\n",
        "\n",
        "def sk(k):\n",
        "  if isEven(k):\n",
        "    return (int)((((k + 1) * (k + 2) * (k + 3)) / 6) + ((k / 2) - 1))\n",
        "  elif isEven(k) == False:\n",
        "    return (int)(((k + 1) * (k + 2) * (k + 3)) / 6) - 2 \n",
        "  \n",
        "for i in range(1, 8):\n",
        "  print(sk(i))"
      ],
      "metadata": {
        "id": "ifFPCl0q74zP",
        "colab": {
          "base_uri": "https://localhost:8080/"
        },
        "outputId": "f4f5f067-e390-4d54-c53c-5f4d8b1556d0"
      },
      "execution_count": null,
      "outputs": [
        {
          "output_type": "stream",
          "name": "stdout",
          "text": [
            "2\n",
            "10\n",
            "18\n",
            "36\n",
            "54\n",
            "86\n",
            "118\n"
          ]
        }
      ]
    },
    {
      "cell_type": "code",
      "source": [
        "# b. Lotur og flokkar\n",
        "\n",
        "def lota(s):\n",
        "  breakoutC = False\n",
        "  lotaK = 1\n",
        "  while lotaK < 9:\n",
        "    if ((sk(lotaK - 1)) < s <= sk(lotaK)):\n",
        "      return lotaK\n",
        "    else:\n",
        "      lotaK += 1\n",
        "\n",
        "def flokkur(s):\n",
        "  k = lota(s)\n",
        "\n",
        "  if s == 1:\n",
        "    return 1\n",
        "  elif (1 < s <= sk(k - 1) + 2):\n",
        "    return (s - sk(k - 1))\n",
        "  else:\n",
        "    return max(3, 18 + s - sk(k))\n",
        "\n",
        "print(lota(19))\n",
        "print(flokkur(19))\n",
        "print()\n",
        "print(lota(44))\n",
        "print(flokkur(44))\n",
        "print()\n",
        "print(lota(86))\n",
        "print(flokkur(86))\n",
        "print()\n",
        "print(lota(69))\n",
        "print(flokkur(69))"
      ],
      "metadata": {
        "id": "xxR-FCAe8_kX",
        "colab": {
          "base_uri": "https://localhost:8080/"
        },
        "outputId": "939afb7e-252c-45f0-c7bc-cadbd46c8648"
      },
      "execution_count": null,
      "outputs": [
        {
          "output_type": "stream",
          "name": "stdout",
          "text": [
            "4\n",
            "1\n",
            "\n",
            "5\n",
            "8\n",
            "\n",
            "6\n",
            "18\n",
            "\n",
            "6\n",
            "3\n"
          ]
        }
      ]
    },
    {
      "cell_type": "code",
      "source": [
        "# c. Íslensk og ensk málmanöfn\n",
        "\n",
        "import numpy as np\n",
        "\n",
        "skrá = \"https://cs.hi.is/python/allir-malmar.txt\"\n",
        "A = np.loadtxt(skrá, skiprows=1, delimiter=';', dtype='str').T\n",
        "efnatákn    = A[0].tolist()\n",
        "nafn        = A[1].tolist()\n",
        "sætistala   = A[2].astype(int)\n",
        "A3          = np.char.replace(A[3], \",\", \".\")\n",
        "eðlisþyngd  = A3.astype(float)\n",
        "bræðslumark = A[4].astype(int)\n",
        "enskt_nafn  = A[5].tolist()\n",
        "\n",
        "tafla = dict(zip(nafn, efnatákn))\n",
        "for (nafn, efnatákn) in tafla.items():\n",
        "  print(f\"{nafn} {efnatákn}\")\n",
        "\n",
        "def íslenska(s):\n",
        "    \"\"\"notað sem 'key' í sort eða sorted til að raða í íslenska stafrófsröð,\n",
        "    t.d. print(sorted(['ár','bára','bali','akur'], key=íslenska))\"\"\"\n",
        "    return [íslenska.k.get(c.lower(),0) for c in s]\n",
        "    return t\n",
        "íslenska.a = list('0123456789aábcdðeéfghiíjklmnoópqrstuúvwxyýzþæö')\n",
        "íslenska.k = dict(zip(íslenska.a, range(1,len(íslenska.a)+1)))"
      ],
      "metadata": {
        "id": "6Sh48pcXTo4E",
        "colab": {
          "base_uri": "https://localhost:8080/"
        },
        "outputId": "53a88adb-0601-41f5-8515-92b5aebff396"
      },
      "execution_count": null,
      "outputs": [
        {
          "output_type": "stream",
          "name": "stdout",
          "text": [
            "litín Li\n",
            "beryllín Be\n",
            "natrín Na\n",
            "magnesín Mg\n",
            "ál Al\n",
            "kalín K\n",
            "kalsín Ca\n",
            "skandín Sc\n",
            "títan Ti\n",
            "vanadín V\n",
            "króm Cr\n",
            "mangan Mn\n",
            "járn Fe\n",
            "kóbalt Co\n",
            "nikkel Ni\n",
            "kopar Cu\n",
            "sink Zn\n",
            "gallín Ga\n",
            "rúbidín Rb\n",
            "strontín Sr\n",
            "yttrín Y\n",
            "sirkon Zr\n",
            "níóbín Nb\n",
            "mólýbden Mo\n",
            "teknetín Tc\n",
            "rúþen Ru\n",
            "ródín Rh\n",
            "palladín Pd\n",
            "silfur Ag\n",
            "kadmín Cd\n",
            "indín In\n",
            "tin Sn\n",
            "sesín Cs\n",
            "barín Ba\n",
            "lantan La\n",
            "serín Ce\n",
            "praseódým Pr\n",
            "neódým Nd\n",
            "prometín Pm\n",
            "samarín Sm\n",
            "evrópín Eu\n",
            "gadólín Gd\n",
            "terbín Tb\n",
            "dysprósín Dy\n",
            "hólmín Ho\n",
            "erbín Er\n",
            "túlín Tm\n",
            "ytterbín Yb\n",
            "lútetín Lu\n",
            "hafnín Hf\n",
            "tantal Ta\n",
            "volfram W\n",
            "renín Re\n",
            "osmín Os\n",
            "iridín Ir\n",
            "platína Pt\n",
            "gull Au\n",
            "kvikasilfur Hg\n",
            "þallín Tl\n",
            "blý Pb\n",
            "bismút Bi\n",
            "pólon Po\n",
            "fransín Fr\n",
            "radín Ra\n",
            "aktín Ac\n",
            "þórín Th\n",
            "prótaktín Pa\n",
            "úran U\n",
            "neptún Np\n",
            "plúton Pu\n"
          ]
        }
      ]
    },
    {
      "cell_type": "code",
      "source": [
        "# d. Eðlisþyngd eftir sæti\n",
        "\n",
        "import matplotlib.pyplot as plt\n",
        "import numpy as np\n",
        "\n",
        "l = len(sætistala)\n",
        "lotaListi = [\"\"] * l\n",
        "for i in range(0, len(sætistala)):\n",
        "  lotaListi[i] = lota(sætistala[i])\n",
        "\n",
        "plt.scatter(sætistala, eðlisþyngd, c=lotaListi, cmap=\"summer\")\n",
        "plt.colorbar(label=\"Lota\", orientation=\"horizontal\")"
      ],
      "metadata": {
        "id": "YeRfui1Vvlzc",
        "colab": {
          "base_uri": "https://localhost:8080/",
          "height": 280
        },
        "outputId": "6e352688-e13f-4a17-83ae-eda831a61a47"
      },
      "execution_count": null,
      "outputs": [
        {
          "output_type": "execute_result",
          "data": {
            "text/plain": [
              "<matplotlib.colorbar.Colorbar at 0x7f87bbb94990>"
            ]
          },
          "metadata": {},
          "execution_count": 5
        },
        {
          "output_type": "display_data",
          "data": {
            "text/plain": [
              "<Figure size 432x288 with 2 Axes>"
            ],
            "image/png": "[encoded data removed]"
          },
          "metadata": {
            "needs_background": "light"
          }
        }
      ]
    },
    {
      "cell_type": "markdown",
      "source": [
        "# Körfuboltamenn (V23)"
      ],
      "metadata": {
        "id": "wai47ngF8gjg"
      }
    },
    {
      "cell_type": "code",
      "source": [
        "# a. Einföld súlurit\n",
        "\n",
        "import numpy as np\n",
        "import matplotlib.pyplot as plt\n",
        "\n",
        "def countX(lst, x):\n",
        "    count = 0\n",
        "    for ele in lst:\n",
        "        if (ele == x):\n",
        "            count = count + 1\n",
        "    return count\n",
        "\n",
        "skráv23 = \"https://cs.hi.is/python/karfa.txt\"\n",
        "B = np.loadtxt(skráv23).T\n",
        "aldur = B[0].tolist()\n",
        "hæð = B[1].tolist()\n",
        "þyngd = B[2].tolist()\n",
        "\n",
        "aldurInt = [int(x) for x in aldur]\n",
        "aldurCount = [\"\"] * len(aldur)\n",
        "for i in range(0, len(aldur)):\n",
        "  aldurCount[i] = countX(aldur, aldur[i])\n",
        "\n",
        "plt.bar(aldurInt, aldurCount)\n",
        "plt.xlabel('Aldur')\n",
        "plt.ylabel('Fjöldi')"
      ],
      "metadata": {
        "id": "bIeMsCH475Wr",
        "colab": {
          "base_uri": "https://localhost:8080/",
          "height": 296
        },
        "outputId": "cfe04e92-cac8-4c48-d793-3d63438852fd"
      },
      "execution_count": null,
      "outputs": [
        {
          "output_type": "execute_result",
          "data": {
            "text/plain": [
              "Text(0, 0.5, 'Fjöldi')"
            ]
          },
          "metadata": {},
          "execution_count": 6
        },
        {
          "output_type": "display_data",
          "data": {
            "text/plain": [
              "<Figure size 432x288 with 1 Axes>"
            ],
            "image/png": "[encoded data removed]"
          },
          "metadata": {
            "needs_background": "light"
          }
        }
      ]
    },
    {
      "cell_type": "code",
      "source": [
        "hæðInt = [int(x) for x in hæð]\n",
        "hæðCount = [\"\"] * len(hæð)\n",
        "for i in range(0, len(hæð)):\n",
        "  hæðCount[i] = countX(hæð, hæð[i])\n",
        "plt.bar(hæðInt, hæðCount)\n",
        "plt.xlabel('Hæð í cm')\n",
        "plt.ylabel('Fjöldi')"
      ],
      "metadata": {
        "colab": {
          "base_uri": "https://localhost:8080/",
          "height": 296
        },
        "id": "1wzn8xoygwsg",
        "outputId": "5c0b35e5-fcaa-4117-9c82-ae688e095a45"
      },
      "execution_count": null,
      "outputs": [
        {
          "output_type": "execute_result",
          "data": {
            "text/plain": [
              "Text(0, 0.5, 'Fjöldi')"
            ]
          },
          "metadata": {},
          "execution_count": 7
        },
        {
          "output_type": "display_data",
          "data": {
            "text/plain": [
              "<Figure size 432x288 with 1 Axes>"
            ],
            "image/png": "[encoded data removed]"
          },
          "metadata": {
            "needs_background": "light"
          }
        }
      ]
    },
    {
      "cell_type": "code",
      "source": [
        "þyngdInt = [int(x) for x in þyngd]\n",
        "þyngdCount = [\"\"] * len(þyngd)\n",
        "for i in range(0, len(þyngd)):\n",
        "  þyngdCount[i] = countX(þyngd, þyngd[i])\n",
        "plt.bar(þyngdInt, þyngdCount)\n",
        "plt.xlabel('Þyngd í kg')\n",
        "plt.ylabel('Fjöldi')"
      ],
      "metadata": {
        "colab": {
          "base_uri": "https://localhost:8080/",
          "height": 297
        },
        "id": "jh4Mq8qGg6ji",
        "outputId": "f7d88119-e0fe-4f16-e339-ee2d54b7cd7b"
      },
      "execution_count": null,
      "outputs": [
        {
          "output_type": "execute_result",
          "data": {
            "text/plain": [
              "Text(0, 0.5, 'Fjöldi')"
            ]
          },
          "metadata": {},
          "execution_count": 8
        },
        {
          "output_type": "display_data",
          "data": {
            "text/plain": [
              "<Figure size 432x288 with 1 Axes>"
            ],
            "image/png": "[encoded data removed]"
          },
          "metadata": {
            "needs_background": "light"
          }
        }
      ]
    },
    {
      "cell_type": "code",
      "source": [
        "# b. Punktarit og besta lína\n",
        "\n",
        "plt.scatter(hæðInt, þyngd)\n",
        "\n",
        "plt.rc('axes', axisbelow=True)\n",
        "def linspace(a,b):\n",
        "   return [a + (b-a)*i/200 for i in range(201)]\n",
        "(a,b) = np.polyfit(hæðInt, þyngd, deg=1)\n",
        "(A,B,C) = np.polyfit(hæðInt, þyngd, deg=2)\n",
        "xp = np.linspace(min(hæðInt), max(hæðInt))\n",
        "yp = a*xp + b\n",
        "plt.plot(xp,yp)"
      ],
      "metadata": {
        "id": "F8LATaNdwHZX",
        "colab": {
          "base_uri": "https://localhost:8080/",
          "height": 282
        },
        "outputId": "f4d2eb75-efbb-4cf4-d978-f343ccfb03e4"
      },
      "execution_count": null,
      "outputs": [
        {
          "output_type": "execute_result",
          "data": {
            "text/plain": [
              "[<matplotlib.lines.Line2D at 0x7f87b2ff6f90>]"
            ]
          },
          "metadata": {},
          "execution_count": 9
        },
        {
          "output_type": "display_data",
          "data": {
            "text/plain": [
              "<Figure size 432x288 with 1 Axes>"
            ],
            "image/png": "[encoded data removed]"
          },
          "metadata": {
            "needs_background": "light"
          }
        }
      ]
    },
    {
      "cell_type": "code",
      "source": [
        "# c. Miðtala\n",
        "\n",
        "aldurMiðtala = np.median(aldur)\n",
        "print(f\"Miðtala aldurs körfuboltamannanna er: {aldurMiðtala}\")\n",
        "\n",
        "yngri, eldri = [], []\n",
        "for x in aldur:\n",
        "  (eldri, yngri)[x < aldurMiðtala].append(x)\n",
        "\n",
        "print(f\"Miðtala aldurs þeirra yngri er: {np.median(yngri)}\")\n",
        "print(f\"Miðtala aldurs þeirra eldri er: {np.median(eldri)}\")\n"
      ],
      "metadata": {
        "id": "hsr2W2vJwIgh",
        "colab": {
          "base_uri": "https://localhost:8080/"
        },
        "outputId": "b5194933-aaad-4f91-bb15-a41e8b03400f"
      },
      "execution_count": null,
      "outputs": [
        {
          "output_type": "stream",
          "name": "stdout",
          "text": [
            "Miðtala aldurs körfuboltamannanna er: 27.979999999999997\n",
            "Miðtala aldurs þeirra yngri er: 25.465\n",
            "Miðtala aldurs þeirra eldri er: 31.28\n"
          ]
        },
        {
          "output_type": "stream",
          "name": "stderr",
          "text": [
            "/usr/local/lib/python3.7/dist-packages/ipykernel_launcher.py:8: DeprecationWarning: In future, it will be an error for 'np.bool_' scalars to be interpreted as an index\n",
            "  \n"
          ]
        }
      ]
    },
    {
      "cell_type": "markdown",
      "source": [
        "# Kínverskt jöfnuhneppi"
      ],
      "metadata": {
        "id": "JHgsqJIDIrgZ"
      }
    },
    {
      "cell_type": "code",
      "source": [
        "fjöldiKaupenda = 0\n",
        "verð = 0\n",
        "\n",
        "def c1():\n",
        "  if (fjöldiKaupenda * 8 - verð == 3): \n",
        "    return True\n",
        "  else:\n",
        "     return False\n",
        "\n",
        "def c2():\n",
        "  if (fjöldiKaupenda * 7 - verð == - 4):\n",
        "    return True\n",
        "  else:\n",
        "    return False\n",
        "\n",
        "mögulegGildiFyrirC1 = []\n",
        "mögulegGildiFyrirC2 = []\n",
        "\n",
        "def FKRaise():\n",
        "  for i in range(0, 100):\n"
      ],
      "metadata": {
        "id": "thAv8Em2wKua",
        "colab": {
          "base_uri": "https://localhost:8080/",
          "height": 130
        },
        "outputId": "773c7bd4-13c2-487f-89e5-0fd9761fe45f"
      },
      "execution_count": null,
      "outputs": [
        {
          "output_type": "error",
          "ename": "SyntaxError",
          "evalue": "ignored",
          "traceback": [
            "\u001b[0;36m  File \u001b[0;32m\"<ipython-input-11-5482a79c8751>\"\u001b[0;36m, line \u001b[0;32m20\u001b[0m\n\u001b[0;31m    for i in range(0, 100):\u001b[0m\n\u001b[0m                           ^\u001b[0m\n\u001b[0;31mSyntaxError\u001b[0m\u001b[0;31m:\u001b[0m unexpected EOF while parsing\n"
          ]
        }
      ]
    }
  ]
}