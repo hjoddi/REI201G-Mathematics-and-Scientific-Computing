{
  "nbformat": 4,
  "nbformat_minor": 0,
  "metadata": {
    "colab": {
      "name": "Copy of S4.ipynb",
      "provenance": [],
      "collapsed_sections": [],
      "include_colab_link": true
    },
    "kernelspec": {
      "name": "python3",
      "display_name": "Python 3"
    },
    "language_info": {
      "name": "python"
    }
  },
  "cells": [
    {
      "cell_type": "markdown",
      "metadata": {
        "id": "view-in-github",
        "colab_type": "text"
      },
      "source": [
        "<a href=\"https://colab.research.google.com/github/hjoddi/REI201G-python-projects/blob/main/Copy_of_S4.ipynb\" target=\"_parent\"><img src=\"https://colab.research.google.com/assets/colab-badge.svg\" alt=\"Open In Colab\"/></a>"
      ]
    },
    {
      "cell_type": "markdown",
      "metadata": {
        "id": "rInDhIMNh5qK"
      },
      "source": [
        "# Stærðfræði og reiknifræði vor 2022, skiladæmi 4"
      ]
    },
    {
      "cell_type": "markdown",
      "source": [
        "Nafn: Hjörvar Sigurðsson\n",
        "\n",
        "Samverkamenn:"
      ],
      "metadata": {
        "id": "CqV6ZfIpicAY"
      }
    },
    {
      "cell_type": "markdown",
      "source": [
        "# Skrá með íslenskum orðum (V10)"
      ],
      "metadata": {
        "id": "qyzKJj0I8RTM"
      }
    },
    {
      "cell_type": "code",
      "source": [
        "#V10a\n",
        "\n",
        "\n",
        "from urllib.request import urlopen\n",
        "f = urlopen(\"https://cs.hi.is/python/ord.txt\")\n",
        "\n",
        "orðFT = []\n",
        "\n",
        "for lína in f:\n",
        "  orð = lína.decode().strip()\n",
        "  orðFT.append(orð)\n",
        "\n",
        "for i in range(0, 5):\n",
        "  print(orðFT[i])\n",
        "\n",
        "print()\n",
        "\n",
        "for i in range(0, len(orðFT), 10000):\n",
        "  print(orðFT[i])\n",
        "\n",
        "print()\n",
        "\n",
        "for i in range(0, len(orðFT)):\n",
        "  if len(orðFT[i]) > 30:\n",
        "    print(orðFT[i])"
      ],
      "metadata": {
        "id": "ifFPCl0q74zP",
        "outputId": "a9dc0255-64a9-4ea8-f402-56bfef52c8ac",
        "colab": {
          "base_uri": "https://localhost:8080/"
        }
      },
      "execution_count": null,
      "outputs": [
        {
          "output_type": "stream",
          "name": "stdout",
          "text": [
            "abba\n",
            "abbadís\n",
            "abbadísar\n",
            "abbadísarinnar\n",
            "abbadísartíð\n",
            "\n",
            "abba\n",
            "barónett\n",
            "bókmenntahátíðinni\n",
            "eldvarpi\n",
            "flögraði\n",
            "galdrakver\n",
            "hafnarverkamaður\n",
            "hnýttan\n",
            "illkvittnislegar\n",
            "konunglegar\n",
            "leiðbeiningum\n",
            "margnefndir\n",
            "nemanna\n",
            "rammann\n",
            "sandhólunum\n",
            "skynsemdar\n",
            "stjórnast\n",
            "sólarhring\n",
            "tötralegur\n",
            "veðurs\n",
            "árásargrein\n",
            "útdauðir\n",
            "\n",
            "alþjóðaheilbrigðisstofnunarinnar\n",
            "alþjóðasiglingamálastofnunarinnar\n",
            "atvinnuleysistryggingasjóðurinn\n",
            "flugslysarannsóknarnefndarinnar\n",
            "norðuratlantshafssjávarspendýraráðsins\n",
            "norðurheimskautsrannsóknaráðsins\n",
            "teiknimyndaævintýrapoppálfkonan\n"
          ]
        }
      ]
    },
    {
      "cell_type": "code",
      "source": [
        "#V10b\n",
        "\n",
        "def spegilorð(s):\n",
        "  x = \"\"\n",
        "  for i in range(len(s) - 1, -1, -1):\n",
        "    x += s[i]\n",
        "  \n",
        "  return (s == x)\n",
        "  \n",
        "\n",
        "print(spegilorð(\"googoog\"))\n",
        "print(spegilorð(\"googog\"))\n",
        "\n",
        "print()\n",
        "\n",
        "counter = 0\n",
        "for i in range(0, len(orðFT)):\n",
        "  if spegilorð(orðFT[i]):\n",
        "    if counter < 9:\n",
        "      print(orðFT[i], end=\" \")\n",
        "      counter += 1\n",
        "    elif counter >= 9:\n",
        "      print(orðFT[i])\n",
        "      counter = 0"
      ],
      "metadata": {
        "id": "xxR-FCAe8_kX",
        "outputId": "0406f304-51f4-471b-a09b-7a817c07ad4f",
        "colab": {
          "base_uri": "https://localhost:8080/"
        }
      },
      "execution_count": null,
      "outputs": [
        {
          "output_type": "stream",
          "name": "stdout",
          "text": [
            "True\n",
            "False\n",
            "\n",
            "abba afa aga agga aka ala alla ama amma ana\n",
            "apa argra assa ata axa aða gíg gýg illi inni\n",
            "iðaði iði kajak kok kák kæk kók kúk mm muninum\n",
            "munnum munum mununum mussum natan nón píp rabbar radar raddar\n",
            "rafar ragar rakar rakkar rammar rappar rasar rassar ratar raðar\n",
            "rifir riðir ruddur rullur rumur runur rár rær rór rör\n",
            "rýr sinnis stúts summus sás talat tillit tæt uku ullu\n",
            "undnu unnu unu uxu á æ í ísí ó óbó\n",
            "ódó óró ý "
          ]
        }
      ]
    },
    {
      "cell_type": "code",
      "source": [
        "#V10c\n",
        "\n",
        "vowels = [\"a\", \"á\", \"e\", \"i\", \"í\", \"o\", \"ó\", \"u\", \"ú\", \"ö\", \"y\", \"æ\", \n",
        "          \"A\", \"Á\", \"E\", \"I\", \"Í\", \"O\", \"Ó\", \"U\", \"Ú\", \"Ö\", \"Y\", \"Æ\"]\n",
        "cons = [\"b\", \"d\", \"ð\", \"f\", \"g\", \"h\", \"j\", \"k\", \"l\", \"m\", \"n\", \"p\", \"r\", \"s\", \n",
        "        \"t\", \"v\", \"x\", \"þ\", \"B\", \"D\", \"Ð\", \"F\", \"G\", \"H\", \"J\", \"K\", \"L\", \"M\", \n",
        "        \"N\", \"P\", \"R\", \"S\", \"T\", \"V\", \"X\", \"Þ\"]\n",
        "\n",
        "def countVowels(orð):\n",
        "  return sum(i in vowels for i in orð)\n",
        "\n",
        "def countCons(orð):\n",
        "  return sum(i in cons for i in orð)\n",
        "\n",
        "# n er leyfilegur hámarksfjöldi samhljóða.\n",
        "def OneVowMaxCons(n):\n",
        "  x = []\n",
        "  \n",
        "  for i in range(0, len(orðFT)):\n",
        "    if countVowels(orðFT[i]) == 0:\n",
        "      if countCons(orðFT[i]) < n:\n",
        "        x.append(orðFT[i])\n",
        "\n",
        "  return x\n",
        "\n",
        "orðC = OneVowMaxCons(2)\n",
        "for i in range(0, len(orðC)):\n",
        "  print(orðC[i])"
      ],
      "metadata": {
        "id": "6Sh48pcXTo4E",
        "colab": {
          "base_uri": "https://localhost:8080/"
        },
        "outputId": "beed2059-0082-43ba-825c-ef3424e3afe0"
      },
      "execution_count": null,
      "outputs": [
        {
          "output_type": "stream",
          "name": "stdout",
          "text": [
            "bé\n",
            "bý\n",
            "cm\n",
            "dý\n",
            "fé\n",
            "mý\n",
            "né\n",
            "ný\n",
            "sé\n",
            "té\n",
            "vé\n",
            "Ýr\n",
            "ég\n",
            "él\n",
            "ét\n",
            "ý\n",
            "ýl\n",
            "þý\n"
          ]
        }
      ]
    },
    {
      "cell_type": "markdown",
      "source": [
        "# Fjöldi stafa í skrafli (V11a)\n",
        "(ath. að það á bara að leysa a-liðinn)"
      ],
      "metadata": {
        "id": "wai47ngF8gjg"
      }
    },
    {
      "cell_type": "code",
      "source": [
        "#V11a\n",
        "\n",
        "# Finn alla stafi sem koma fyrir í ord.txt\n",
        "charPossible = []\n",
        "\n",
        "for i in range(0, len(orðFT)):\n",
        "  orðLower = orðFT[i].lower()\n",
        "  for j in range(0, len(orðLower)):\n",
        "    if orðLower[j] not in charPossible:\n",
        "      charPossible.append(orðLower[j])\n",
        "\n",
        "charPossible.sort()\n",
        "charPossible.remove(\"-\")\n",
        "\n",
        "for i in range(0, len(charPossible)):\n",
        "  print(charPossible[i], end=\", \")\n",
        "\n",
        "print()\n",
        "\n",
        "# Bý til streng sem samanstendur af öllum orðunum skeytt saman.\n",
        "öllorð = \"\".join(orðFT)\n",
        "print(öllorð[:40])\n",
        "print()\n",
        "\n",
        "\n",
        "# Bý til töflu\n",
        "print(f\"{'stafur' : ^10}{'tíðni' : ^10}{'fjöldi' : ^10}{'heill fjöldi af 98' : ^20}\")\n",
        "print(\"---------------------------------------------------\")\n",
        "for i in range(0, len(charPossible)):\n",
        "  print(\n",
        "      f\"{charPossible[i] : ^10}\"\n",
        "      f\"{(öllorð.count(charPossible[i]))/(len(öllorð)) : ^10.4f}\"\n",
        "      f\"{(öllorð.count(charPossible[i])) : ^10}\"\n",
        "      f\"{round((öllorð.count(charPossible[i])) * 98) : ^20}\"\n",
        "      )"
      ],
      "metadata": {
        "id": "bIeMsCH475Wr",
        "colab": {
          "base_uri": "https://localhost:8080/"
        },
        "outputId": "01d9ddd7-dbf5-4848-8423-786dc4526634"
      },
      "execution_count": null,
      "outputs": [
        {
          "output_type": "stream",
          "name": "stdout",
          "text": [
            "a, b, c, d, e, f, g, h, i, j, k, l, m, n, o, p, r, s, t, u, v, x, y, á, æ, é, í, ð, ó, ö, ú, ý, þ, \n",
            "abbaabbadísabbadísarabbadísarinnarabbadí\n",
            "\n",
            "  stafur    tíðni     fjöldi   heill fjöldi af 98 \n",
            "---------------------------------------------------\n",
            "    a       0.0980    212796        20854008      \n",
            "    b       0.0134    29100         2851800       \n",
            "    c       0.0000      1              98         \n",
            "    d       0.0202    43908         4302984       \n",
            "    e       0.0412    89477         8768746       \n",
            "    f       0.0296    64162         6287876       \n",
            "    g       0.0401    87062         8532076       \n",
            "    h       0.0159    34563         3387174       \n",
            "    i       0.0760    164958        16165884      \n",
            "    j       0.0147    31835         3119830       \n",
            "    k       0.0375    81423         7979454       \n",
            "    l       0.0574    124508        12201784      \n",
            "    m       0.0355    77026         7548548       \n",
            "    n       0.0944    204998        20089804      \n",
            "    o       0.0120    26039         2551822       \n",
            "    p       0.0115    24867         2436966       \n",
            "    r       0.0903    195947        19202806      \n",
            "    s       0.0657    142555        13970390      \n",
            "    t       0.0511    110829        10861242      \n",
            "    u       0.0583    126667        12413366      \n",
            "    v       0.0170    36901         3616298       \n",
            "    x       0.0006     1305          127890       \n",
            "    y       0.0098    21204         2077992       \n",
            "    á       0.0127    27608         2705584       \n",
            "    æ       0.0106    22976         2251648       \n",
            "    é       0.0030     6492          636216       \n",
            "    í       0.0090    19472         1908256       \n",
            "    ð       0.0341    73947         7246806       \n",
            "    ó       0.0151    32834         3217732       \n",
            "    ö       0.0112    24302         2381596       \n",
            "    ú       0.0067    14505         1421490       \n",
            "    ý       0.0032     6912          677376       \n",
            "    þ       0.0042     9025          884450       \n"
          ]
        }
      ]
    },
    {
      "cell_type": "markdown",
      "source": [
        "# Fallateikning"
      ],
      "metadata": {
        "id": "76qNq9sn76IZ"
      }
    },
    {
      "cell_type": "code",
      "source": [
        "#V17a\n",
        "# Frumstilling teikningar\n",
        "import matplotlib.pyplot as plt\n",
        "plt.rc('axes', axisbelow=True)\n",
        "plt.rc('figure', figsize=(8,4)) # (6,4) er sjálfgefið\n",
        "plt.rc('savefig',bbox='tight')  # laga galla á savefig\n",
        "\n",
        "\n",
        "def f(x):\n",
        "  return (x + 3) * (x + 2) * (x) * (x - 2) * (x - 3)\n",
        "\n",
        "print(f(1))"
      ],
      "metadata": {
        "id": "KfMzMzTd76cy",
        "colab": {
          "base_uri": "https://localhost:8080/"
        },
        "outputId": "e478be8c-26ea-4c72-d8bf-e96bb136f50c"
      },
      "execution_count": null,
      "outputs": [
        {
          "output_type": "stream",
          "name": "stdout",
          "text": [
            "24\n"
          ]
        }
      ]
    },
    {
      "cell_type": "code",
      "source": [
        "#V17b\n",
        "\n",
        "def linspace(a,b):\n",
        "   return [a + (b-a)*i/200 for i in range(201)]\n",
        "\n",
        "x = linspace(-3.4, 3.4)\n",
        "y = [f(xi) for xi in x]\n",
        "plt.plot(x, y, lw=3, color='red')\n",
        "plt.grid(True)\n",
        "plt.xlim([-3.4, 3.4])\n",
        "plt.ylim([-65, 65])\n",
        "plt.xticks([-2, 0, 2])\n",
        "plt.yticks([-40, 0, 40])\n",
        "plt.axvline(1)\n",
        "plt.axhline(20)\n",
        "plt.box(False)\n",
        "plt.tick_params(length = 5, width = 2, direction=\"out\")"
      ],
      "metadata": {
        "id": "l2Ey9Mb2_EXv",
        "colab": {
          "base_uri": "https://localhost:8080/",
          "height": 267
        },
        "outputId": "a7b19090-4c14-4845-944e-72e92cf06bb2"
      },
      "execution_count": null,
      "outputs": [
        {
          "output_type": "display_data",
          "data": {
            "image/png": "[encoded data removed]",
            "text/plain": [
              "<Figure size 576x288 with 1 Axes>"
            ]
          },
          "metadata": {
            "needs_background": "light"
          }
        }
      ]
    }
  ]
}