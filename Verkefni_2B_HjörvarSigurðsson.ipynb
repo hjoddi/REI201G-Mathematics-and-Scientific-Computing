{
  "nbformat": 4,
  "nbformat_minor": 0,
  "metadata": {
    "colab": {
      "name": "Verkefni_2B_HjörvarSigurðsson.ipynb",
      "provenance": [],
      "collapsed_sections": [],
      "authorship_tag": "ABX9TyNcHTOYL6blTaZgIfm9VtVY",
      "include_colab_link": true
    },
    "kernelspec": {
      "name": "python3",
      "display_name": "Python 3"
    },
    "language_info": {
      "name": "python"
    }
  },
  "cells": [
    {
      "cell_type": "markdown",
      "metadata": {
        "id": "view-in-github",
        "colab_type": "text"
      },
      "source": [
        "<a href=\"https://colab.research.google.com/github/hjoddi/REI201G-python-projects/blob/main/Verkefni_2B_Hj%C3%B6rvarSigur%C3%B0sson.ipynb\" target=\"_parent\"><img src=\"https://colab.research.google.com/assets/colab-badge.svg\" alt=\"Open In Colab\"/></a>"
      ]
    },
    {
      "cell_type": "markdown",
      "source": [
        "Verkefni 2B\n",
        "\n",
        "Hjörvar Sigurðsson\n",
        "\n",
        "hjs33@hi.is"
      ],
      "metadata": {
        "id": "MgImkjL4aaE9"
      }
    },
    {
      "cell_type": "code",
      "source": [
        "# Föll sem reikna gildið f.\n",
        "# f1 vísar til fallsins sem er merkt (*). \n",
        "# f2 vísar til fallsins sem er merkt (**).\n",
        "\n",
        "from math import sin, e\n",
        "\n",
        "def f1(x):\n",
        "  return ((sin (x)) / x)\n",
        "\n",
        "def f2(x):\n",
        "  return (e**x)"
      ],
      "metadata": {
        "id": "h_qHNORZgsFU"
      },
      "execution_count": null,
      "outputs": []
    },
    {
      "cell_type": "code",
      "execution_count": null,
      "metadata": {
        "id": "h1TVSxDdd7o_"
      },
      "outputs": [],
      "source": [
        "# Fall sem reiknar delta X.\n",
        "\n",
        "def xDelta(a, b, n):\n",
        "   return (b - a) / n"
      ]
    },
    {
      "cell_type": "code",
      "source": [
        "# Fall sem nálgar heildið af f frá a til b með \n",
        "#   samsettri simpsons-reglu með n hlutbilum, þar sem\n",
        "#   n er slétt tala.\n",
        "\n",
        "def simpson(f, a, b, n):\n",
        "  hlutbilLengd = xDelta(a, b, n)\n",
        "  sum = f(a)\n",
        "  count = 1\n",
        "  xn = a + hlutbilLengd\n",
        "\n",
        "\n",
        "  for x in range(0, n - 1):\n",
        "    if (count % 2 == 0):\n",
        "      sum += 2 * f(xn)\n",
        "\n",
        "    elif (count % 2 != 0):\n",
        "      sum += 4 * f(xn)\n",
        "      \n",
        "    count += 1\n",
        "    xn += hlutbilLengd\n",
        "\n",
        "  sum += f(b)\n",
        "  return ((hlutbilLengd / 3) * sum)\n",
        "\n",
        "\n",
        "  \n"
      ],
      "metadata": {
        "id": "a-Xou7yVfell"
      },
      "execution_count": null,
      "outputs": []
    },
    {
      "cell_type": "code",
      "source": [
        "# Prufa með f = *, og n = 4.\n",
        "print(simpson(f1, 1, 2, 4))\n",
        "\n",
        "# Prufa með f = **, og n = 4.\n",
        "print(simpson(f2, 0, 1, 4))"
      ],
      "metadata": {
        "colab": {
          "base_uri": "https://localhost:8080/"
        },
        "id": "FUoLH6tk9qxr",
        "outputId": "a16ae4f8-4d2a-45a0-8e88-a5f78160a71e"
      },
      "execution_count": null,
      "outputs": [
        {
          "output_type": "stream",
          "name": "stdout",
          "text": [
            "0.6593312109452117\n",
            "1.718318841921747\n"
          ]
        }
      ]
    },
    {
      "cell_type": "code",
      "source": [
        "# Kanna hversu stórt n þarf að vera í f = * til að fá alla 7 aukastafinna rétta.\n",
        "print (simpson(f1, 1, 2, 6))\n",
        "print (simpson(f1, 1, 2, 8))\n",
        "# Svarið er n = 8.\n",
        "\n",
        "# Kanna hversu stórt n þarf að vera í f = ** til að fá alla 7 aukastafinna rétta.\n",
        "print (simpson(f2, 0, 1, 18))\n",
        "print (simpson(f2, 0, 1, 20))\n",
        "# Svarið er n = 20."
      ],
      "metadata": {
        "colab": {
          "base_uri": "https://localhost:8080/"
        },
        "id": "YzjDbpcQCloV",
        "outputId": "66909e2c-c403-4899-8003-be266655cc10"
      },
      "execution_count": null,
      "outputs": [
        {
          "output_type": "stream",
          "name": "stdout",
          "text": [
            "0.6593301634947134\n",
            "0.6593299877020256\n",
            "1.7182819193608112\n",
            "1.7182818881038568\n"
          ]
        }
      ]
    },
    {
      "cell_type": "code",
      "source": [
        "# Heilda sjálfvalið fall þar sem afmælisdagurinn minn kemur við sögu.\n",
        "\n",
        "def afmaelisfall(x):\n",
        "  return ((5 * x * 5 * x) / 1994)\n",
        "\n",
        "print(simpson(afmaelisfall, 1, 10, 300))"
      ],
      "metadata": {
        "colab": {
          "base_uri": "https://localhost:8080/"
        },
        "id": "i5TCKRmAEJmm",
        "outputId": "f505c273-9281-4a81-91d9-82d6338d1f64"
      },
      "execution_count": null,
      "outputs": [
        {
          "output_type": "stream",
          "name": "stdout",
          "text": [
            "4.17502507522568\n"
          ]
        }
      ]
    }
  ]
}